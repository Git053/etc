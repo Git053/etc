{
 "cells": [
  {
   "cell_type": "code",
   "execution_count": 2,
   "id": "34659441",
   "metadata": {},
   "outputs": [
    {
     "name": "stdout",
     "output_type": "stream",
     "text": [
      "    Symbol       Name  Market          Sector\n",
      "0   004840      DRB동일   KOSPI        고무제품 제조업\n",
      "1   155660        DSR   KOSPI     1차 비철금속 제조업\n",
      "2   078930         GS   KOSPI          기타 금융업\n",
      "3   001250      GS글로벌   KOSPI       상품 종합 도매업\n",
      "4   294870  HDC현대산업개발   KOSPI          건물 건설업\n",
      "..     ...        ...     ...             ...\n",
      "95  067290       JW신약  KOSDAQ         의약품 제조업\n",
      "96  024120     KB오토시스  KOSDAQ   자동차 신품 부품 제조업\n",
      "97  060720       KH바텍  KOSDAQ        전자부품 제조업\n",
      "98  024940       PN풍년  KOSDAQ  기타 금속 가공제품 제조업\n",
      "99  036120    SCI평가정보  KOSDAQ      기타 정보 서비스업\n",
      "\n",
      "[100 rows x 4 columns]\n"
     ]
    }
   ],
   "source": [
    "from datetime import datetime\n",
    "import pandas as pd\n",
    "import requests\n",
    "import json\n",
    "\n",
    "url = 'http://kind.krx.co.kr/corpgeneral/corpList.do?method=download&searchType=13'\n",
    "df_listing = pd.read_html(url, header=0)[0]\n",
    "rename_cols = {'회사명':'Name', '종목코드':'Symbol', '업종':'Sector', '주요제품':'Industry', '상장일':'ListingDate',  \\\n",
    "       '결산월':'SettleMonth', '대표자명':'Representative', '홈페이지':'Homepage', '지역':'Region'}\n",
    "\n",
    "df_listing = df_listing.rename(columns = rename_cols)\n",
    "\n",
    "df_listing['Symbol'] = df_listing['Symbol'].apply(lambda x : '{:06d}'.format(x))\n",
    "df_listing['ListingDate'] = pd.to_datetime(df_listing['ListingDate'])\n",
    "\n",
    "data = {'bld': 'dbms/comm/finder/finder_stkisu',}\n",
    "r = requests.post('http://data.krx.co.kr/comm/bldAttendant/getJsonData.cmd', data=data)\n",
    "\n",
    "jo = json.loads(r.text)\n",
    "df_finder = pd.json_normalize(jo, 'block1')\n",
    "\n",
    "df_finder.columns = ['FullCode', 'Symbol', 'Name', 'MarketCode', 'MarketName', 'Market', 'Ord1', 'Ord2']\n",
    "\n",
    "df_right = df_finder[['Symbol', 'Market', 'Name']]\n",
    "df_left = df_listing[['Symbol', 'Sector', 'Industry', 'ListingDate', 'SettleMonth', 'Representative', 'Homepage', 'Region']]\n",
    "\n",
    "df_master = pd.merge(df_left, df_right, how='left', left_on='Symbol', right_on='Symbol')\n",
    "\n",
    "print(df_master[['Symbol', 'Name', 'Market','Sector']].head(100))\n"
   ]
  },
  {
   "cell_type": "code",
   "execution_count": null,
   "id": "290e4ec3",
   "metadata": {},
   "outputs": [],
   "source": []
  }
 ],
 "metadata": {
  "kernelspec": {
   "display_name": "Python 3 (ipykernel)",
   "language": "python",
   "name": "python3"
  },
  "language_info": {
   "codemirror_mode": {
    "name": "ipython",
    "version": 3
   },
   "file_extension": ".py",
   "mimetype": "text/x-python",
   "name": "python",
   "nbconvert_exporter": "python",
   "pygments_lexer": "ipython3",
   "version": "3.9.6"
  }
 },
 "nbformat": 4,
 "nbformat_minor": 5
}
